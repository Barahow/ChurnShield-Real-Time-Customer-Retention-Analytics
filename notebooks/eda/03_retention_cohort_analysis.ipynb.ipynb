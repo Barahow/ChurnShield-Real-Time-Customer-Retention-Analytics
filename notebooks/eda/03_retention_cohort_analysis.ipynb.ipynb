{
 "cells": [
  {
   "cell_type": "markdown",
   "id": "de7850d7",
   "metadata": {},
   "source": [
    "# Retention & Cohort Analysis "
   ]
  },
  {
   "cell_type": "markdown",
   "id": "b5853767",
   "metadata": {},
   "source": [
    "## 1. Cohort Retention\n",
    "\n",
    "* Q1: Build monthly cohorts by signup date; plot 1-, 3-, 6-month retention curves.\n",
    "\n",
    "* Q2: Compare retention curves for customers with high vs. low email engagement in their first month.\n",
    "\n",
    "## 2. RFM Segmentation & Churn\n",
    "\n",
    "* Q3: Perform RFM segmentation; report purchase frequency and monetary value by segment.\n",
    "\n",
    "* Q4: Calculate churn rate per RFM segment over 6 months.\n",
    "\n",
    "## 3. Engagement → Long-Term Value\n",
    "\n",
    "* Q5: What’s the average lifetime value (LTV) for customers who opened ≥1 email vs. zero?\n",
    "\n",
    "* Q6: Does early A/B variant engagement predict better long-term retention or LTV?\n",
    "\n"
   ]
  }
 ],
 "metadata": {
  "language_info": {
   "name": "python"
  }
 },
 "nbformat": 4,
 "nbformat_minor": 5
}
