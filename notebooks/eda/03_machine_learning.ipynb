{
 "cells": [
  {
   "cell_type": "markdown",
   "id": "de7850d7",
   "metadata": {},
   "source": []
  },
  {
   "cell_type": "markdown",
   "id": "b5853767",
   "metadata": {},
   "source": [
    "1. Churn Prediction\n",
    "\n",
    "* Create customer‑level features from usage_events, subscriptions, support_tickets, marketing_events\n",
    "\n",
    "* Train/test a classification model (e.g. random forest or logistic regression) to predict 30‑day churn\n",
    "\n",
    "* Evaluate with ROC AUC, precision/recall at chosen threshold\n",
    "\n",
    "2. Revenue Forecasting\n",
    "\n",
    "* Time‑series model (e.g. ARIMA, Prophet) on monthly ARR or renewal rates\n",
    "\n",
    "* Predict next 3 months of ARR retention & upsell\n",
    "\n",
    "3. Customer Segmentation (Clustering)\n",
    "\n",
    "* Unsupervised clustering on usage & spend features to identify behavioral personas\n",
    "\n",
    "4. Feature Importance & Actionable Insights\n",
    "\n",
    "* SHAP or permutation importances to show top drivers of churn\n",
    "\n",
    "* Define trigger thresholds (e.g. < X weekly logins) for real‑time alerts"
   ]
  }
 ],
 "metadata": {
  "language_info": {
   "name": "python"
  }
 },
 "nbformat": 4,
 "nbformat_minor": 5
}
