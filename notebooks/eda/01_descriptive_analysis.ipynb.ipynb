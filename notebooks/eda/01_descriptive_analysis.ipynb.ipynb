{
 "cells": [
  {
   "cell_type": "markdown",
   "id": "34be5481",
   "metadata": {},
   "source": [
    "01_descriptive_analysis.ipynb"
   ]
  },
  {
   "cell_type": "markdown",
   "id": "33aba758",
   "metadata": {},
   "source": [
    "## 1. Churn & Revenue Baselines\n",
    "\n",
    "* Quarterly & monthly churn rate overall and by segment (SME, mid‑market, enterprise)\n",
    "\n",
    "* Average and total ARR per segment (using subscription plan pricing)\n",
    "\n",
    "## 2. Customer Tenure & Lifecycle\n",
    "\n",
    "* Distribution of tenure at churn date\n",
    "\n",
    "* Time from signup → first subscription\n",
    "\n",
    "* Distribution of subscription lengths (renewal cadence)\n",
    "\n",
    "## 3. Usage & Support Summaries\n",
    "\n",
    "* Average logins/events per user-month by retained vs. churned\n",
    "\n",
    "* Mean & median # support tickets per customer by segment\n",
    "\n",
    "## 4. Marketing Touchpoints\n",
    "\n",
    "* Volume of acquisitions by channel (email, webinar, demo)\n",
    "\n",
    "* Basic conversion funnel (events → first subscription)"
   ]
  },
  {
   "cell_type": "code",
   "execution_count": null,
   "id": "2eef7775",
   "metadata": {},
   "outputs": [],
   "source": []
  }
 ],
 "metadata": {
  "kernelspec": {
   "display_name": "venv (3.13.3)",
   "language": "python",
   "name": "python3"
  },
  "language_info": {
   "name": "python",
   "version": "3.13.3"
  }
 },
 "nbformat": 4,
 "nbformat_minor": 5
}
