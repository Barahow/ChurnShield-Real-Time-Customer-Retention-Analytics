{
 "cells": [
  {
   "cell_type": "markdown",
   "id": "630db218",
   "metadata": {},
   "source": []
  },
  {
   "cell_type": "markdown",
   "id": "5e00674b",
   "metadata": {},
   "source": [
    "## 1. Cohort Retention & LTV\n",
    "\n",
    "* Month‑of‑signup cohorts: % still active at 1, 3, 6 months\n",
    "\n",
    "* Estimated Customer Lifetime Value (≈ ARPU × expected tenure) by cohort/segment\n",
    "\n",
    "## 2. Feature & Module Use\n",
    "\n",
    "* Top 5 features/modules by usage frequency; compare churners vs. non‑churners\n",
    "\n",
    "* API calls, key feature events over time (seasonality, day‑of‑week)\n",
    "\n",
    "## 3. Support Ticket Analysis\n",
    "\n",
    "* Top 3 root‑cause keywords in tickets opened ≤ 30 days before churn\n",
    "\n",
    "* Time‑to‑first‑response distribution; correlation with churn probability\n",
    "\n",
    "## 4. Marketing Efficacy Deep‑Dive\n",
    "\n",
    "* Churn rates within 90 days post‑acquisition, by channel\n",
    "\n",
    "* Time between marketing event → first usage/subscription\n",
    "\n",
    "## 5. Seasonality & Trends\n",
    "\n",
    "* Month‑over‑month churn spikes/dips (e.g. year‑end, summer)\n",
    "\n",
    "* Usage & open‑ticket volume seasonality"
   ]
  }
 ],
 "metadata": {
  "language_info": {
   "name": "python"
  }
 },
 "nbformat": 4,
 "nbformat_minor": 5
}
