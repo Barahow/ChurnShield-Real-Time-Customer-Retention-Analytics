{
 "cells": [
  {
   "cell_type": "markdown",
   "id": "630db218",
   "metadata": {},
   "source": [
    "# Exploratory & A/B Testing "
   ]
  },
  {
   "cell_type": "markdown",
   "id": "5e00674b",
   "metadata": {},
   "source": [
    "## 1. Subject Line A/B Performance\n",
    "\n",
    "* Q1: Do variant A vs B subject lines produce statistically significant differences in open rate?\n",
    "\n",
    "* Q2: Which variants perform best by channel and segment?\n",
    "\n",
    "## 2. Timing & Frequency Effects\n",
    "\n",
    "* Q3: Does send time (hour/day) affect open/CTR?\n",
    "\n",
    "* Q4: Does send frequency (number of emails per week) correlate with unsubscribe or return rates?\n",
    "\n",
    "## 3. Segment-Level Insights\n",
    "\n",
    "* Q5: Which customer segments (RFM quintiles, new vs. repeat) respond best to promotions vs. newsletters?\n",
    "\n",
    "* Q6: What is the interplay between purchase frequency and email engagement?\n",
    "\n",
    "* Campaign→Order Link\n",
    "\n",
    "*  Q7: For engaged customers (opened/clicked), what is the uplift in next-30-day order rate and average order value vs. non-openers?"
   ]
  }
 ],
 "metadata": {
  "language_info": {
   "name": "python"
  }
 },
 "nbformat": 4,
 "nbformat_minor": 5
}
